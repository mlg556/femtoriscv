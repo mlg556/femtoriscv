{
 "cells": [
  {
   "cell_type": "code",
   "execution_count": 10,
   "metadata": {},
   "outputs": [
    {
     "name": "stdout",
     "output_type": "stream",
     "text": [
      "['00100313', '00100393', '00000e13', '00030513', '00730e33', '00030393', '000e0313', '00030513', 'ff1ff06f']\n"
     ]
    }
   ],
   "source": [
    "# using bronzebeard\n",
    "\n",
    "from subprocess import Popen, PIPE\n",
    "from sys import argv\n",
    "from binascii import hexlify\n",
    "\n",
    "\n",
    "#fname = argv[1]\n",
    "fname = \"fib.S\"\n",
    "fname_woext = fname.split(\".\")[0]\n",
    "fname_hex = f\"{fname_woext}.hex\"\n",
    "fname_v =  f\"{fname_woext}.vv\"\n",
    "\n",
    "cmd = Popen([\"bronzebeard\", fname, \"-o\", fname_hex], stdin=PIPE, stdout=PIPE, stderr=PIPE, shell=True)\n",
    "\n",
    "_, err = cmd.communicate(b\"\")\n",
    "\n",
    "code_hex = []\n",
    "\n",
    "with open (fname_hex, \"rb\") as f:\n",
    "    code_hex = f.read()\n",
    "\n",
    "code = []\n",
    "\n",
    "word_size = 4\n",
    "for i in range(0, len(hexa), word_size):\n",
    "    word = code_hex[i:i+word_size]\n",
    "    word = word[::-1]\n",
    "    code.append(hexlify(word).decode())\n",
    "\n",
    "\n",
    "with open(fname_v, \"w+\") as f:\n",
    "    f.write(\"task LOADMEM;\\n\")\n",
    "    f.write(\"\\tbegin\\n\")\n",
    "    for i, line in enumerate(code):\n",
    "        f.write(f\"\\t\\tMEM[{i}] = 32'h{line};\\n\")\n",
    "    f.write(\"\\tend\\n\")\n",
    "    f.write(\"endtask\\n\")"
   ]
  },
  {
   "cell_type": "code",
   "execution_count": 9,
   "metadata": {},
   "outputs": [],
   "source": [
    "from subprocess import Popen, PIPE\n",
    "\n",
    "fname = \"fib.S\"\n",
    "fname_woext = fname.split(\".\")[0]\n",
    "fname_elf = f\"{fname_woext}.elf\"\n",
    "fname_o = f\"{fname_woext}.o\"\n",
    "fname_v =  f\"{fname_woext}.vv\"\n",
    "\n",
    "asm = [\"riscv64-unknown-elf-as\", \"-march=rv32i\", \"-mabi=ilp32\", \"-mno-relax\", fname, \"-o\", fname_o]\n",
    "link = [\"riscv64-unknown-elf-ld\", fname_o, \"-o\", fname_elf, \"-T\", \"tang.ld\", \"-m\", \"elf32lriscv\", \"-nostdlib\", \"-no-relax\"]\n",
    "\n",
    "cmd_asm = Popen(asm, stdin=PIPE, stdout=PIPE, stderr=PIPE, shell=True)\n",
    "_, err = cmd_asm.communicate(b\"\")\n",
    "\n",
    "if (err): print(err)\n",
    "\n",
    "cmd_link = Popen(link, stdin=PIPE, stdout=PIPE, stderr=PIPE, shell=True)\n",
    "output, err = cmd_asm.communicate(b\"\")\n",
    "\n",
    "if (err): print(err)\n",
    "if (output): print(output)\n",
    "\n",
    "# riscv64-unknown-elf-ld blinker.o wait.o -o blinker.bram.elf -T bram.ld -m elf32lriscv -nostdlib -no-relax\n"
   ]
  },
  {
   "cell_type": "code",
   "execution_count": 33,
   "metadata": {},
   "outputs": [],
   "source": [
    "# using gcc\n",
    "\n",
    "from subprocess import Popen, PIPE\n",
    "from sys import argv\n",
    "\n",
    "fname = argv[1]\n",
    "fname_woext = fname.split(\".\")[0]\n",
    "\n",
    "\n",
    "cmd_as = Popen([\"riscv64-unknown-elf-as\", \"-march=rv32i\", \"-mabi=ilp32\", \"-mno-relax\", fname, \"-o\", f\"{fname_woext}.elf\"], stdin=PIPE, stdout=PIPE, stderr=PIPE, shell=True)\n",
    "\n",
    "_, err = cmd_as.communicate(b\"\")\n",
    "\n",
    "cmd_objdump = Popen([\"riscv64-unknown-elf-objdump.exe\", \"-S\", f\"{fname_woext}.elf\"], stdin=PIPE, stdout=PIPE, stderr=PIPE, shell=True)\n",
    "\n",
    "code, err = cmd_objdump.communicate(b\"\")\n",
    "\n",
    "code = code.decode(\"utf-8\")\n",
    "\n",
    "codet = [x.strip() for x in code.split(\"\\n\") if \"\\t\" in x] # extract lines containing \\t\n",
    "code_hex = [(x.split(\"\\t\")[1]).strip() for x in codet] # extract hex instructions\n",
    "\n",
    "\n",
    "with open(f\"{fname_woext}.hex\", \"w+\") as f:\n",
    "    f.write(\"v2.0 raw\\n\")\n",
    "    for line in code_hex:\n",
    "        f.write(f\"{line}\\n\")\n",
    "\n",
    "\n"
   ]
  }
 ],
 "metadata": {
  "kernelspec": {
   "display_name": "Python 3",
   "language": "python",
   "name": "python3"
  },
  "language_info": {
   "codemirror_mode": {
    "name": "ipython",
    "version": 3
   },
   "file_extension": ".py",
   "mimetype": "text/x-python",
   "name": "python",
   "nbconvert_exporter": "python",
   "pygments_lexer": "ipython3",
   "version": "3.10.9"
  },
  "orig_nbformat": 4
 },
 "nbformat": 4,
 "nbformat_minor": 2
}
