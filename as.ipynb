{
 "cells": [
  {
   "cell_type": "code",
   "execution_count": null,
   "metadata": {},
   "outputs": [],
   "source": []
  },
  {
   "cell_type": "code",
   "execution_count": 33,
   "metadata": {},
   "outputs": [],
   "source": [
    "from subprocess import Popen, PIPE\n",
    "from sys import argv\n",
    "\n",
    "fname = argv[1]\n",
    "fname_woext = fname.split(\".\")[0]\n",
    "\n",
    "\n",
    "cmd_as = Popen([\"riscv64-unknown-elf-as\", \"-march=rv32i\", \"-mabi=ilp32\", \"-mno-relax\", fname, \"-o\", f\"{fname_woext}.elf\"], stdin=PIPE, stdout=PIPE, stderr=PIPE, shell=True)\n",
    "\n",
    "_, err = cmd_as.communicate(b\"\")\n",
    "\n",
    "cmd_objdump = Popen([\"riscv64-unknown-elf-objdump.exe\", \"-S\", f\"{fname_woext}.elf\"], stdin=PIPE, stdout=PIPE, stderr=PIPE, shell=True)\n",
    "\n",
    "code, err = cmd_objdump.communicate(b\"\")\n",
    "\n",
    "code = code.decode(\"utf-8\")\n",
    "\n",
    "codet = [x.strip() for x in code.split(\"\\n\") if \"\\t\" in x] # extract lines containing \\t\n",
    "code_hex = [(x.split(\"\\t\")[1]).strip() for x in codet] # extract hex instructions\n",
    "\n",
    "\n",
    "with open(f\"{fname_woext}.hex\", \"w+\") as f:\n",
    "    f.write(\"v2.0 raw\\n\")\n",
    "    for line in code_hex:\n",
    "        f.write(f\"{line}\\n\")\n",
    "\n"
   ]
  }
 ],
 "metadata": {
  "kernelspec": {
   "display_name": "Python 3",
   "language": "python",
   "name": "python3"
  },
  "language_info": {
   "codemirror_mode": {
    "name": "ipython",
    "version": 3
   },
   "file_extension": ".py",
   "mimetype": "text/x-python",
   "name": "python",
   "nbconvert_exporter": "python",
   "pygments_lexer": "ipython3",
   "version": "3.10.9"
  },
  "orig_nbformat": 4
 },
 "nbformat": 4,
 "nbformat_minor": 2
}
